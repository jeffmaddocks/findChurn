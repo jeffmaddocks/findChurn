{
 "cells": [
  {
   "cell_type": "markdown",
   "id": "471d7565-9818-4fe4-9431-19166cb4e76c",
   "metadata": {},
   "source": [
    "#### import required packages"
   ]
  },
  {
   "cell_type": "code",
   "execution_count": 1,
   "id": "97c0806d-3727-425a-b719-3ca2b0b9cb44",
   "metadata": {},
   "outputs": [],
   "source": [
    "import kaggle\n",
    "import pandas as pd"
   ]
  },
  {
   "cell_type": "markdown",
   "id": "cb1998ff-eb3f-45e5-8752-4cf330f0a4d2",
   "metadata": {
    "tags": []
   },
   "source": [
    "#### use the [Kaggle API](https://github.com/Kaggle/kaggle-api) to download a [sample telco customer churn dataset](https://www.kaggle.com/blastchar/telco-customer-churn), save as csv"
   ]
  },
  {
   "cell_type": "code",
   "execution_count": 2,
   "id": "b9987bab-3bdd-480b-ab5c-6ead910276ff",
   "metadata": {},
   "outputs": [],
   "source": [
    "kaggle.api.authenticate()\n",
    "kaggle.api.dataset_download_files('blastchar/telco-customer-churn', unzip=True)"
   ]
  },
  {
   "cell_type": "markdown",
   "id": "ff18ae25-ef12-46a9-840d-73deea7f9847",
   "metadata": {
    "tags": []
   },
   "source": [
    "#### split the dataframe 60/40, drop the response field from current customers"
   ]
  },
  {
   "cell_type": "code",
   "execution_count": 3,
   "id": "dc7c92a5-e9d7-4e47-a54e-7c8adce27812",
   "metadata": {},
   "outputs": [],
   "source": [
    "df = pd.read_csv('WA_Fn-UseC_-Telco-Customer-Churn.csv')\n",
    "historical_outcomes=df.sample(frac=0.6,random_state=200) #random state is a seed value\n",
    "current_customers = current_customers=df.drop(historical_outcomes.index)\n",
    "current_customers = current_customers.drop(columns='Churn')"
   ]
  },
  {
   "cell_type": "markdown",
   "id": "722fc248-646b-4f31-880b-78c1a9a45d70",
   "metadata": {},
   "source": [
    "#### finally, save the resulting dataframes into json files"
   ]
  },
  {
   "cell_type": "code",
   "execution_count": 4,
   "id": "ea7df0a7-5e68-468f-b590-132aa06d54b9",
   "metadata": {},
   "outputs": [],
   "source": [
    "historical_outcomes.to_json('Telco_Churn_historical_outcomes.json')\n",
    "current_customers.to_json('Telco_Churn_current_customers.json')"
   ]
  }
 ],
 "metadata": {
  "kernelspec": {
   "display_name": "Python 3 (ipykernel)",
   "language": "python",
   "name": "python3"
  },
  "language_info": {
   "codemirror_mode": {
    "name": "ipython",
    "version": 3
   },
   "file_extension": ".py",
   "mimetype": "text/x-python",
   "name": "python",
   "nbconvert_exporter": "python",
   "pygments_lexer": "ipython3",
   "version": "3.9.7"
  }
 },
 "nbformat": 4,
 "nbformat_minor": 5
}
