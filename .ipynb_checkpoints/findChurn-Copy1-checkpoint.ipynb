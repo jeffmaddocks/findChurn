{
 "cells": [
  {
   "cell_type": "markdown",
   "metadata": {},
   "source": [
    "#### Import packages and initialize the h2o application server"
   ]
  },
  {
   "cell_type": "code",
   "execution_count": 9,
   "metadata": {},
   "outputs": [
    {
     "name": "stdout",
     "output_type": "stream",
     "text": [
      "Checking whether there is an H2O instance running at http://localhost:54321 ..... not found.\n",
      "Attempting to start a local H2O server...\n",
      "  Java Version: openjdk version \"11.0.11\" 2021-04-20; OpenJDK Runtime Environment (build 11.0.11+9-Ubuntu-0ubuntu2.20.04); OpenJDK 64-Bit Server VM (build 11.0.11+9-Ubuntu-0ubuntu2.20.04, mixed mode, sharing)\n",
      "  Starting server from /home/jeff/findChurn/env/lib/python3.8/site-packages/h2o/backend/bin/h2o.jar\n",
      "  Ice root: /tmp/tmp3e9575i4\n",
      "  JVM stdout: /tmp/tmp3e9575i4/h2o_jeff_started_from_python.out\n",
      "  JVM stderr: /tmp/tmp3e9575i4/h2o_jeff_started_from_python.err\n",
      "  Server is running at http://127.0.0.1:54321\n",
      "Connecting to H2O server at http://127.0.0.1:54321 ... successful.\n"
     ]
    },
    {
     "data": {
      "text/html": [
       "<div style=\"overflow:auto\"><table style=\"width:50%\"><tr><td>H2O_cluster_uptime:</td>\n",
       "<td>01 secs</td></tr>\n",
       "<tr><td>H2O_cluster_timezone:</td>\n",
       "<td>America/Chicago</td></tr>\n",
       "<tr><td>H2O_data_parsing_timezone:</td>\n",
       "<td>UTC</td></tr>\n",
       "<tr><td>H2O_cluster_version:</td>\n",
       "<td>3.34.0.3</td></tr>\n",
       "<tr><td>H2O_cluster_version_age:</td>\n",
       "<td>20 days </td></tr>\n",
       "<tr><td>H2O_cluster_name:</td>\n",
       "<td>H2O_from_python_jeff_zuemvd</td></tr>\n",
       "<tr><td>H2O_cluster_total_nodes:</td>\n",
       "<td>1</td></tr>\n",
       "<tr><td>H2O_cluster_free_memory:</td>\n",
       "<td>1.943 Gb</td></tr>\n",
       "<tr><td>H2O_cluster_total_cores:</td>\n",
       "<td>8</td></tr>\n",
       "<tr><td>H2O_cluster_allowed_cores:</td>\n",
       "<td>8</td></tr>\n",
       "<tr><td>H2O_cluster_status:</td>\n",
       "<td>locked, healthy</td></tr>\n",
       "<tr><td>H2O_connection_url:</td>\n",
       "<td>http://127.0.0.1:54321</td></tr>\n",
       "<tr><td>H2O_connection_proxy:</td>\n",
       "<td>{\"http\": null, \"https\": null}</td></tr>\n",
       "<tr><td>H2O_internal_security:</td>\n",
       "<td>False</td></tr>\n",
       "<tr><td>H2O_API_Extensions:</td>\n",
       "<td>Amazon S3, XGBoost, Algos, AutoML, Core V3, TargetEncoder, Core V4</td></tr>\n",
       "<tr><td>Python_version:</td>\n",
       "<td>3.8.10 final</td></tr></table></div>"
      ],
      "text/plain": [
       "--------------------------  ------------------------------------------------------------------\n",
       "H2O_cluster_uptime:         01 secs\n",
       "H2O_cluster_timezone:       America/Chicago\n",
       "H2O_data_parsing_timezone:  UTC\n",
       "H2O_cluster_version:        3.34.0.3\n",
       "H2O_cluster_version_age:    20 days\n",
       "H2O_cluster_name:           H2O_from_python_jeff_zuemvd\n",
       "H2O_cluster_total_nodes:    1\n",
       "H2O_cluster_free_memory:    1.943 Gb\n",
       "H2O_cluster_total_cores:    8\n",
       "H2O_cluster_allowed_cores:  8\n",
       "H2O_cluster_status:         locked, healthy\n",
       "H2O_connection_url:         http://127.0.0.1:54321\n",
       "H2O_connection_proxy:       {\"http\": null, \"https\": null}\n",
       "H2O_internal_security:      False\n",
       "H2O_API_Extensions:         Amazon S3, XGBoost, Algos, AutoML, Core V3, TargetEncoder, Core V4\n",
       "Python_version:             3.8.10 final\n",
       "--------------------------  ------------------------------------------------------------------"
      ]
     },
     "metadata": {},
     "output_type": "display_data"
    }
   ],
   "source": [
    "import h2o\n",
    "import pandas as pd\n",
    "import matplotlib.pyplot as plt\n",
    "import time\n",
    "\n",
    "from h2o.automl import H2OAutoML\n",
    "from IPython.core.display import display, HTML\n",
    "\n",
    "h2o.init(log_level=\"INFO\")"
   ]
  },
  {
   "cell_type": "markdown",
   "metadata": {},
   "source": [
    "#### Load the data"
   ]
  },
  {
   "cell_type": "code",
   "execution_count": 10,
   "metadata": {},
   "outputs": [
    {
     "name": "stdout",
     "output_type": "stream",
     "text": [
      "Parse progress: |████████████████████████████████████████████████████████████████| (done) 100%\n",
      "Parse progress: |████████████████████████████████████████████████████████████████| (done) 100%\n",
      "Ignore Fields: ['customerID']\n",
      "Rows:4226\n",
      "Cols:21\n",
      "\n",
      "\n"
     ]
    },
    {
     "data": {
      "text/html": [
       "<table>\n",
       "<thead>\n",
       "<tr><th>       </th><th>customerID  </th><th>gender  </th><th>SeniorCitizen      </th><th>Partner  </th><th>Dependents  </th><th>tenure            </th><th>PhoneService  </th><th>MultipleLines  </th><th>InternetService  </th><th>OnlineSecurity     </th><th>OnlineBackup       </th><th>DeviceProtection   </th><th>TechSupport        </th><th>StreamingTV        </th><th>StreamingMovies    </th><th>Contract      </th><th>PaperlessBilling  </th><th>PaymentMethod            </th><th>MonthlyCharges    </th><th>TotalCharges     </th><th>Churn  </th></tr>\n",
       "</thead>\n",
       "<tbody>\n",
       "<tr><td>type   </td><td>string      </td><td>enum    </td><td>int                </td><td>enum     </td><td>enum        </td><td>int               </td><td>enum          </td><td>enum           </td><td>enum             </td><td>enum               </td><td>enum               </td><td>enum               </td><td>enum               </td><td>enum               </td><td>enum               </td><td>enum          </td><td>enum              </td><td>enum                     </td><td>real              </td><td>real             </td><td>enum   </td></tr>\n",
       "<tr><td>mins   </td><td>NaN         </td><td>        </td><td>0.0                </td><td>         </td><td>            </td><td>0.0               </td><td>              </td><td>               </td><td>                 </td><td>                   </td><td>                   </td><td>                   </td><td>                   </td><td>                   </td><td>                   </td><td>              </td><td>                  </td><td>                         </td><td>18.25             </td><td>18.8             </td><td>       </td></tr>\n",
       "<tr><td>mean   </td><td>NaN         </td><td>        </td><td>0.16303833412210128</td><td>         </td><td>            </td><td>32.47633696166593 </td><td>              </td><td>               </td><td>                 </td><td>                   </td><td>                   </td><td>                   </td><td>                   </td><td>                   </td><td>                   </td><td>              </td><td>                  </td><td>                         </td><td>64.87386417416002 </td><td>2310.916362559243</td><td>       </td></tr>\n",
       "<tr><td>maxs   </td><td>NaN         </td><td>        </td><td>1.0                </td><td>         </td><td>            </td><td>72.0              </td><td>              </td><td>               </td><td>                 </td><td>                   </td><td>                   </td><td>                   </td><td>                   </td><td>                   </td><td>                   </td><td>              </td><td>                  </td><td>                         </td><td>118.75            </td><td>8684.8           </td><td>       </td></tr>\n",
       "<tr><td>sigma  </td><td>NaN         </td><td>        </td><td>0.3694443573864723 </td><td>         </td><td>            </td><td>24.743264620298163</td><td>              </td><td>               </td><td>                 </td><td>                   </td><td>                   </td><td>                   </td><td>                   </td><td>                   </td><td>                   </td><td>              </td><td>                  </td><td>                         </td><td>30.206467961311827</td><td>2294.219370612503</td><td>       </td></tr>\n",
       "<tr><td>zeros  </td><td>0           </td><td>        </td><td>3537               </td><td>         </td><td>            </td><td>6                 </td><td>              </td><td>               </td><td>                 </td><td>                   </td><td>                   </td><td>                   </td><td>                   </td><td>                   </td><td>                   </td><td>              </td><td>                  </td><td>                         </td><td>0                 </td><td>0                </td><td>       </td></tr>\n",
       "<tr><td>missing</td><td>0           </td><td>0       </td><td>0                  </td><td>0        </td><td>0           </td><td>0                 </td><td>0             </td><td>0              </td><td>0                </td><td>0                  </td><td>0                  </td><td>0                  </td><td>0                  </td><td>0                  </td><td>0                  </td><td>0             </td><td>0                 </td><td>0                        </td><td>0                 </td><td>6                </td><td>0      </td></tr>\n",
       "<tr><td>0      </td><td>9018-PCIOK  </td><td>Female  </td><td>0.0                </td><td>No       </td><td>No          </td><td>55.0              </td><td>Yes           </td><td>No             </td><td>DSL              </td><td>No                 </td><td>Yes                </td><td>Yes                </td><td>No                 </td><td>No                 </td><td>Yes                </td><td>Two year      </td><td>Yes               </td><td>Mailed check             </td><td>64.75             </td><td>3617.1           </td><td>No     </td></tr>\n",
       "<tr><td>1      </td><td>6732-FZUGP  </td><td>Female  </td><td>0.0                </td><td>No       </td><td>No          </td><td>47.0              </td><td>Yes           </td><td>Yes            </td><td>Fiber optic      </td><td>Yes                </td><td>No                 </td><td>Yes                </td><td>No                 </td><td>Yes                </td><td>No                 </td><td>One year      </td><td>No                </td><td>Credit card (automatic)  </td><td>94.9              </td><td>4615.25          </td><td>No     </td></tr>\n",
       "<tr><td>2      </td><td>0623-EJQEG  </td><td>Male    </td><td>0.0                </td><td>No       </td><td>No          </td><td>65.0              </td><td>Yes           </td><td>Yes            </td><td>Fiber optic      </td><td>Yes                </td><td>No                 </td><td>No                 </td><td>Yes                </td><td>No                 </td><td>Yes                </td><td>One year      </td><td>No                </td><td>Electronic check         </td><td>93.55             </td><td>6069.25          </td><td>No     </td></tr>\n",
       "<tr><td>3      </td><td>0401-WDBXM  </td><td>Male    </td><td>0.0                </td><td>Yes      </td><td>Yes         </td><td>72.0              </td><td>Yes           </td><td>Yes            </td><td>Fiber optic      </td><td>Yes                </td><td>No                 </td><td>Yes                </td><td>No                 </td><td>Yes                </td><td>Yes                </td><td>Two year      </td><td>Yes               </td><td>Bank transfer (automatic)</td><td>105.55            </td><td>7542.25          </td><td>No     </td></tr>\n",
       "<tr><td>4      </td><td>3884-HCSWG  </td><td>Female  </td><td>0.0                </td><td>No       </td><td>No          </td><td>17.0              </td><td>Yes           </td><td>No             </td><td>Fiber optic      </td><td>No                 </td><td>No                 </td><td>No                 </td><td>No                 </td><td>No                 </td><td>No                 </td><td>Month-to-month</td><td>Yes               </td><td>Electronic check         </td><td>70.0              </td><td>1144.5           </td><td>Yes    </td></tr>\n",
       "<tr><td>5      </td><td>8818-DOPVL  </td><td>Female  </td><td>1.0                </td><td>No       </td><td>No          </td><td>46.0              </td><td>Yes           </td><td>Yes            </td><td>Fiber optic      </td><td>No                 </td><td>Yes                </td><td>Yes                </td><td>No                 </td><td>Yes                </td><td>Yes                </td><td>Month-to-month</td><td>Yes               </td><td>Electronic check         </td><td>104.45            </td><td>4863.85          </td><td>No     </td></tr>\n",
       "<tr><td>6      </td><td>4993-JCRGJ  </td><td>Male    </td><td>0.0                </td><td>No       </td><td>No          </td><td>26.0              </td><td>Yes           </td><td>Yes            </td><td>Fiber optic      </td><td>No                 </td><td>No                 </td><td>Yes                </td><td>Yes                </td><td>No                 </td><td>No                 </td><td>Month-to-month</td><td>Yes               </td><td>Mailed check             </td><td>84.3              </td><td>2281.6           </td><td>No     </td></tr>\n",
       "<tr><td>7      </td><td>1656-DRSMG  </td><td>Female  </td><td>0.0                </td><td>No       </td><td>No          </td><td>63.0              </td><td>Yes           </td><td>Yes            </td><td>Fiber optic      </td><td>No                 </td><td>Yes                </td><td>Yes                </td><td>Yes                </td><td>Yes                </td><td>Yes                </td><td>Month-to-month</td><td>Yes               </td><td>Credit card (automatic)  </td><td>109.85            </td><td>7002.95          </td><td>No     </td></tr>\n",
       "<tr><td>8      </td><td>2229-DPMBI  </td><td>Female  </td><td>0.0                </td><td>Yes      </td><td>Yes         </td><td>8.0               </td><td>Yes           </td><td>No             </td><td>No               </td><td>No internet service</td><td>No internet service</td><td>No internet service</td><td>No internet service</td><td>No internet service</td><td>No internet service</td><td>Two year      </td><td>No                </td><td>Mailed check             </td><td>19.5              </td><td>162.15           </td><td>No     </td></tr>\n",
       "<tr><td>9      </td><td>1084-UQCHV  </td><td>Male    </td><td>0.0                </td><td>No       </td><td>Yes         </td><td>1.0               </td><td>Yes           </td><td>No             </td><td>Fiber optic      </td><td>No                 </td><td>No                 </td><td>No                 </td><td>No                 </td><td>No                 </td><td>No                 </td><td>Month-to-month</td><td>No                </td><td>Bank transfer (automatic)</td><td>69.75             </td><td>69.75            </td><td>Yes    </td></tr>\n",
       "</tbody>\n",
       "</table>"
      ]
     },
     "metadata": {},
     "output_type": "display_data"
    },
    {
     "name": "stdout",
     "output_type": "stream",
     "text": [
      "None\n"
     ]
    }
   ],
   "source": [
    "current_customers = pd.read_json('Telco_Churn_current_customers.json')\n",
    "historical_outcomes = pd.read_json('Telco_Churn_historical_outcomes.json')\n",
    "\n",
    "history = h2o.H2OFrame(historical_outcomes)\n",
    "curr = h2o.H2OFrame(current_customers)\n",
    "\n",
    "all_columns = history.columns\n",
    "\n",
    "# create a list of column names that should not be used as predictors (IDs, row counts, and the response column)\n",
    "ignore_columns = [\"customerID\"]\n",
    "for i in all_columns:\n",
    "    if i[0:12] == \"Row Count - \":\n",
    "        ignore_columns.append(i)\n",
    "print(\"Ignore Fields: \" + str(ignore_columns))\n",
    "\n",
    "# define the response (target) field\n",
    "response = \"Churn\"\n",
    "\n",
    "print(history.describe()) "
   ]
  },
  {
   "cell_type": "markdown",
   "metadata": {},
   "source": [
    "#### Define model inputs, split into training and validation sets, train & validate the model"
   ]
  },
  {
   "cell_type": "code",
   "execution_count": 11,
   "metadata": {},
   "outputs": [
    {
     "name": "stdin",
     "output_type": "stream",
     "text": [
      "How long should we allow the model to build? (in seconds)   10\n"
     ]
    },
    {
     "name": "stdout",
     "output_type": "stream",
     "text": [
      "AutoML progress: |\n",
      "15:42:10.162: User specified a validation frame with cross-validation still enabled. Please note that the models will still be validated using cross-validation only, the validation frame will be used to provide purely informative validation metrics on the trained models.\n",
      "\n",
      "███████████████████████████████████████████████████████████████| (done) 100%\n",
      "model build time (seconds): 11\n"
     ]
    },
    {
     "data": {
      "text/html": [
       "<a href='http://docs.h2o.ai/h2o/latest-stable/h2o-docs/data-science.html#supervised'>Model Descriptions</a>"
      ],
      "text/plain": [
       "<IPython.core.display.HTML object>"
      ]
     },
     "metadata": {},
     "output_type": "display_data"
    },
    {
     "data": {
      "image/png": "[encoded data removed]",
      "text/plain": [
       "<Figure size 432x288 with 1 Axes>"
      ]
     },
     "metadata": {
      "needs_background": "light"
     },
     "output_type": "display_data"
    },
    {
     "data": {
      "image/png": "[encoded data removed]",
      "text/plain": [
       "<Figure size 432x288 with 1 Axes>"
      ]
     },
     "metadata": {
      "needs_background": "light"
     },
     "output_type": "display_data"
    },
    {
     "name": "stdout",
     "output_type": "stream",
     "text": [
      "\n",
      "Confusion Matrix (Act/Pred) for max f1 @ threshold = 0.30880298000147693: \n"
     ]
    },
    {
     "data": {
      "text/html": [
       "<div>\n",
       "<style scoped>\n",
       "    .dataframe tbody tr th:only-of-type {\n",
       "        vertical-align: middle;\n",
       "    }\n",
       "\n",
       "    .dataframe tbody tr th {\n",
       "        vertical-align: top;\n",
       "    }\n",
       "\n",
       "    .dataframe thead th {\n",
       "        text-align: right;\n",
       "    }\n",
       "</style>\n",
       "<table border=\"1\" class=\"dataframe\">\n",
       "  <thead>\n",
       "    <tr style=\"text-align: right;\">\n",
       "      <th></th>\n",
       "      <th></th>\n",
       "      <th>No</th>\n",
       "      <th>Yes</th>\n",
       "      <th>Error</th>\n",
       "      <th>Rate</th>\n",
       "    </tr>\n",
       "  </thead>\n",
       "  <tbody>\n",
       "    <tr>\n",
       "      <th>0</th>\n",
       "      <td>No</td>\n",
       "      <td>1973.0</td>\n",
       "      <td>517.0</td>\n",
       "      <td>0.2076</td>\n",
       "      <td>(517.0/2490.0)</td>\n",
       "    </tr>\n",
       "    <tr>\n",
       "      <th>1</th>\n",
       "      <td>Yes</td>\n",
       "      <td>218.0</td>\n",
       "      <td>693.0</td>\n",
       "      <td>0.2393</td>\n",
       "      <td>(218.0/911.0)</td>\n",
       "    </tr>\n",
       "    <tr>\n",
       "      <th>2</th>\n",
       "      <td>Total</td>\n",
       "      <td>2191.0</td>\n",
       "      <td>1210.0</td>\n",
       "      <td>0.2161</td>\n",
       "      <td>(735.0/3401.0)</td>\n",
       "    </tr>\n",
       "  </tbody>\n",
       "</table>\n",
       "</div>"
      ],
      "text/plain": [
       "              No     Yes   Error             Rate\n",
       "0     No  1973.0   517.0  0.2076   (517.0/2490.0)\n",
       "1    Yes   218.0   693.0  0.2393    (218.0/911.0)\n",
       "2  Total  2191.0  1210.0  0.2161   (735.0/3401.0)"
      ]
     },
     "metadata": {},
     "output_type": "display_data"
    },
    {
     "name": "stdout",
     "output_type": "stream",
     "text": [
      "\n"
     ]
    }
   ],
   "source": [
    "runtime = int(input(\"How long should we allow the model to build? (in seconds)  \"))\n",
    "\n",
    "# define the predictors (include factors)\n",
    "predictors = set(all_columns).difference(ignore_columns)\n",
    "predictors = list(predictors)\n",
    "\n",
    "for i in predictors:\n",
    "    if i == response:\n",
    "        predictors.remove(i)\n",
    "        \n",
    "# define training and validation splits\n",
    "history[response] = history[response].asfactor()  # for binary classification, response should be cast as a factor\n",
    "train, valid = history.split_frame(ratios=[.8], seed=1234)\n",
    "\n",
    "# build the model\n",
    "# http://docs.h2o.ai/h2o/latest-stable/h2o-docs/automl.html\n",
    "m = H2OAutoML(max_runtime_secs=runtime, max_models=40, seed=5678)\n",
    "\n",
    "start_time = time.time()\n",
    "m.train(x=predictors, y=response, training_frame=train, validation_frame=valid)\n",
    "finish_time = time.time()\n",
    "print(\"model build time (seconds): \" + str(int(finish_time - start_time)))\n",
    "\n",
    "# validate model accuracy using the leaderboard\n",
    "lb = m.leaderboard.as_data_frame()\n",
    "lb.sort_values(by=\"auc\", ascending=True)\n",
    "use_models = lb[\"model_id\"].tolist()\n",
    "use_performance = lb[\"auc\"].tolist()\n",
    "\n",
    "# iterate thru the model names for readability\n",
    "for index,item in enumerate(use_models):\n",
    "    use_models[index] = use_models[index][:use_models[index].replace(\"_\", \" \", 1).find(\"_\")]  # trim the model name starting with the second underscore\n",
    "\n",
    "plt.barh(use_models, use_performance)\n",
    "plt.xlim(min(use_performance)-.01, max(use_performance)+.002)\n",
    "plt.title(\"Model Accuracy\")\n",
    "plt.xlabel(\"Area Under Curve\")\n",
    "plt.ylabel(\"Model\")\n",
    "display(HTML(\"<a href='http://docs.h2o.ai/h2o/latest-stable/h2o-docs/data-science.html#supervised'>Model Descriptions</a>\"))\n",
    "plt.show()\n",
    "\n",
    "m_performance = m.leader.model_performance()\n",
    "m_performance.plot(type=\"roc\")\n",
    "\n",
    "print(m.leader.confusion_matrix())"
   ]
  },
  {
   "cell_type": "markdown",
   "metadata": {},
   "source": [
    "#### Score current customers"
   ]
  },
  {
   "cell_type": "code",
   "execution_count": 12,
   "metadata": {},
   "outputs": [
    {
     "name": "stdout",
     "output_type": "stream",
     "text": [
      "stackedensemble prediction progress: |███████████████████████████████████████████| (done) 100%\n",
      "    customerID predict        No       Yes\n",
      "0   3668-QPYBK     Yes  0.697926  0.302074\n",
      "1   7795-CFOCW      No  0.959381  0.040619\n",
      "2   9305-CDSKC     Yes  0.182216  0.817784\n",
      "3   6713-OKOMC     Yes  0.713262  0.286738\n",
      "4   9959-WOFKT      No  0.915300  0.084700\n",
      "5   4190-MFLUW      No  0.811575  0.188425\n",
      "6   3638-WEABW      No  0.971912  0.028088\n",
      "7   8665-UTDHZ     Yes  0.518107  0.481893\n",
      "8   5248-YGIJN      No  0.977168  0.022832\n",
      "9   6572-ADKRS     Yes  0.734380  0.265620\n",
      "10  8865-TNMNX      No  0.858574  0.141426\n",
      "H2O session _sid_965c closed.\n"
     ]
    }
   ],
   "source": [
    "# score current current customers for churn using the highest performing model\n",
    "predict = m.leader.predict(curr)\n",
    "\n",
    "# bind the prediction to the original dataset and convert to a dataframe\n",
    "curr = curr.cbind(predict)\n",
    "current_customers_df = pd.DataFrame(curr.as_data_frame(), columns=curr.names)\n",
    "all_columns = current_customers_df.columns\n",
    "for i in all_columns:\n",
    "    if i[0:12] == \"Row Count - \":\n",
    "        del current_customers_df[i]\n",
    "print(current_customers_df.loc[:10,[\"customerID\",\"predict\",\"No\",\"Yes\"]])\n",
    "\n",
    "current_customers.to_json('scored_customers.json')\n",
    "\n",
    "h2o.cluster().shutdown()"
   ]
  }
 ],
 "metadata": {
  "kernelspec": {
   "display_name": "Python 3 (ipykernel)",
   "language": "python",
   "name": "python3"
  },
  "language_info": {
   "codemirror_mode": {
    "name": "ipython",
    "version": 3
   },
   "file_extension": ".py",
   "mimetype": "text/x-python",
   "name": "python",
   "nbconvert_exporter": "python",
   "pygments_lexer": "ipython3",
   "version": "3.8.10"
  }
 },
 "nbformat": 4,
 "nbformat_minor": 4
}
